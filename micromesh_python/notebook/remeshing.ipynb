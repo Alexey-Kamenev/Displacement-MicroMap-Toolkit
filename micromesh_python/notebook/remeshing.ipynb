{
 "cells": [
  {
   "cell_type": "markdown",
   "id": "481ebb1f",
   "metadata": {},
   "source": [
    "# Remeshing\n",
    "\n",
    "This notebook provides examples of triangular mesh adjustment operations, such as:\n",
    "- decimation - reducing number of triangles\n",
    "- tesselation - increasing number of triangles\n",
    "\n",
    "The example uses GPU-accelerated algorithm described in [MicroMap Toolkit](https://github.com/NVIDIAGameWorks/Displacement-MicroMap-Toolkit) repository."
   ]
  },
  {
   "cell_type": "markdown",
   "id": "9f7a9f4a",
   "metadata": {},
   "source": [
    "## Initialization\n",
    "\n",
    "Download sample meshes from AhmedML and DrivAerML datasets."
   ]
  },
  {
   "cell_type": "code",
   "execution_count": null,
   "id": "b660690d",
   "metadata": {},
   "outputs": [],
   "source": [
    "%%bash\n",
    "if [ ! -f \"./assets/boundary_1_1M.vtp\" ]; then\n",
    "    mkdir -p ./assets\n",
    "    wget \"https://huggingface.co/datasets/neashton/ahmedml/resolve/main/run_1/boundary_1.vtp\" -O \"./assets/boundary_1_1M.vtp\"\n",
    "else\n",
    "    echo \"File already exists.\"\n",
    "fi\n",
    "\n",
    "if [ ! -f \"./assets/boundary_1_10M.vtp\" ]; then\n",
    "    mkdir -p ./assets\n",
    "    wget \"https://huggingface.co/datasets/neashton/drivaerml/resolve/main/run_1/boundary_1.vtp\" -O \"./assets/boundary_1_10M.vtp\"\n",
    "else\n",
    "    echo \"File already exists.\"\n",
    "fi"
   ]
  },
  {
   "cell_type": "markdown",
   "id": "0d45de36",
   "metadata": {},
   "source": [
    "Import required packages."
   ]
  },
  {
   "cell_type": "code",
   "execution_count": 1,
   "id": "926adf26",
   "metadata": {},
   "outputs": [],
   "source": [
    "from time import time\n",
    "\n",
    "import numpy as np\n",
    "\n",
    "import pyvista as pv\n",
    "\n",
    "import micromesh_python as pymm"
   ]
  },
  {
   "cell_type": "markdown",
   "id": "d649ec67",
   "metadata": {},
   "source": [
    "Prepare sample data from the dataset."
   ]
  },
  {
   "cell_type": "code",
   "execution_count": 2,
   "id": "c435c1e8",
   "metadata": {},
   "outputs": [],
   "source": [
    "# Set to True to use large 10M mesh.\n",
    "use_10M_mesh = False\n",
    "filename = \"./assets/boundary_1_10M.vtp\" if use_10M_mesh else \"./assets/boundary_1_1M.vtp\"\n",
    "\n",
    "# Read the mesh from VTP file.\n",
    "orig_mesh = pv.read(filename)\n",
    "\n",
    "# The algorithm works only with tri-meshes.\n",
    "tri_mesh = orig_mesh.triangulate()"
   ]
  },
  {
   "cell_type": "code",
   "execution_count": 3,
   "id": "c5f513c5",
   "metadata": {},
   "outputs": [
    {
     "name": "stdout",
     "output_type": "stream",
     "text": [
      "Original mesh:\n",
      "PolyData (0x7ffb6d3472e0)\n",
      "  N Cells:    1101574\n",
      "  N Points:   1131049\n",
      "  N Strips:   0\n",
      "  X Bounds:   -1.188e+00, 2.168e-19\n",
      "  Y Bounds:   -1.847e-01, 1.847e-01\n",
      "  Z Bounds:   5.000e-02, 3.036e-01\n",
      "  N Arrays:   5\n",
      "Cell type counts:\n",
      "{'vtkQuad': 1101164, 'vtkPolygon': 410}\n",
      "\n",
      "Tri-mesh:\n",
      "PolyData (0x7ffb6d347220)\n",
      "  N Cells:    2203558\n",
      "  N Points:   1131049\n",
      "  N Strips:   0\n",
      "  X Bounds:   -1.188e+00, 2.168e-19\n",
      "  Y Bounds:   -1.847e-01, 1.847e-01\n",
      "  Z Bounds:   5.000e-02, 3.036e-01\n",
      "  N Arrays:   5\n"
     ]
    }
   ],
   "source": [
    "# Print some stats.\n",
    "#\n",
    "from collections import Counter\n",
    "from vtk import vtkCellTypes\n",
    "\n",
    "def get_cell_type_name(cell_type_id: int) -> str:\n",
    "    name = vtkCellTypes.GetClassNameFromTypeId(cell_type_id)\n",
    "    return name if name else f\"Unknown ({cell_type_id})\"\n",
    "\n",
    "cell_type_counts = {\n",
    "    get_cell_type_name(k): v\n",
    "    for k, v in Counter(\n",
    "        orig_mesh.GetCellType(i) for i in range(orig_mesh.n_cells)\n",
    "    ).items()\n",
    "}\n",
    "\n",
    "print(f\"Original mesh:\\n{orig_mesh}\\nCell type counts:\\n{cell_type_counts}\\n\")\n",
    "print(f\"Tri-mesh:\\n{tri_mesh}\")"
   ]
  },
  {
   "cell_type": "markdown",
   "id": "09a2714b",
   "metadata": {},
   "source": [
    "Initialize micromesh context."
   ]
  },
  {
   "cell_type": "code",
   "execution_count": 4,
   "id": "c3730ac3",
   "metadata": {},
   "outputs": [
    {
     "name": "stdout",
     "output_type": "stream",
     "text": [
      "_______________\n",
      "Vulkan Version:\n",
      " - available:  1.3.296\n",
      " - requesting: 1.3.0\n",
      "______________________\n",
      "Used Instance Layers :\n",
      "\n",
      "Used Instance Extensions :\n",
      "____________________\n",
      "Devices : 3\n",
      "0: NVIDIA TITAN RTX\n",
      "  - Compatible \n",
      "1: NVIDIA GeForce RTX 3090\n",
      "  - Compatible \n",
      "2: llvmpipe (LLVM 19.1.1, 256 bits)\n",
      "  - Compatible \n",
      "Compatible physical devices found : 3\n",
      "Using Device:\n",
      " - Device Name    : NVIDIA GeForce RTX 3090\n",
      " - Vendor         : NVIDIA\n",
      " - Driver Version : 535.732.64\n",
      " - API Version    : 1.3.242\n",
      " - Device Type    : Discrete GPU\n",
      "________________________\n",
      "Used Device Extensions :\n",
      "VK_KHR_acceleration_structure\n",
      "VK_KHR_ray_tracing_pipeline\n",
      "VK_KHR_ray_query\n",
      "VK_KHR_push_descriptor\n",
      "VK_KHR_deferred_host_operations\n",
      "VK_KHR_buffer_device_address\n",
      "VK_EXT_memory_budget\n",
      "VK_EXT_shader_atomic_float\n",
      "\n",
      "Context created\n"
     ]
    }
   ],
   "source": [
    "context = pymm.createContext(verbosity=pymm.Verbosity.Info)"
   ]
  },
  {
   "cell_type": "markdown",
   "id": "92a71abc",
   "metadata": {},
   "source": [
    "## Remeshing\n",
    "\n",
    "The following sections demonstrate how to use micro_mesh API to perform mesh decimation and tesselation."
   ]
  },
  {
   "cell_type": "markdown",
   "id": "2f40bfec",
   "metadata": {},
   "source": [
    "### Decimation"
   ]
  },
  {
   "cell_type": "markdown",
   "id": "d6c8860b",
   "metadata": {},
   "source": [
    "Next section defines some helpful utility functions."
   ]
  },
  {
   "cell_type": "code",
   "execution_count": 5,
   "id": "8b3bf8a4",
   "metadata": {},
   "outputs": [],
   "source": [
    "def decimate(context, mm_mesh: pymm.Mesh, target_reduction: float = 0.5) -> pymm.Mesh:\n",
    "    \"\"\"Decimates source mesh given parameters.\"\"\"\n",
    "\n",
    "    remesher_settings = pymm.RemesherSettings()\n",
    "    remesher_settings.decimationRatio = 1.0 - target_reduction\n",
    "    remesher_settings.errorThreshold = 90\n",
    "    remesher_settings.maxSubdivLevel = 4\n",
    "\n",
    "    return pymm.remesh(context, mm_mesh, remesher_settings)\n",
    "\n",
    "\n",
    "def create_mm_mesh(vertices: np.ndarray, triangles: np.ndarray) -> pymm.Mesh:\n",
    "    \"\"\"Creates micro-mesh Mesh given source mesh as vertices/triangles arrays.\"\"\"\n",
    "    assert vertices.ndim == 2 and vertices.shape[1] == 3, f\"{vertices.shape = }\"\n",
    "    assert triangles.ndim == 2 and triangles.shape[1] == 3, f\"{triangles.shape = }\"\n",
    "\n",
    "    mm_mesh = pymm.Mesh()\n",
    "    mm_mesh.triangleVertices = triangles\n",
    "    mm_mesh.vertexPositions = vertices\n",
    "\n",
    "    return mm_mesh\n",
    "\n",
    "\n",
    "def mm_mesh_to_polydata(src: pymm.Mesh) -> pv.PolyData:\n",
    "    \"\"\"Creates PolyData mesh given source micro-mesh Mesh.\"\"\"\n",
    "\n",
    "    # In PolyData, triangular faces are in [3, n0, n1, n2] format.\n",
    "    num_triangles = np.full((src.triangleVertices.shape[0], 1), 3)\n",
    "    faces = np.hstack((num_triangles, src.triangleVertices))\n",
    "\n",
    "    return pv.PolyData(src.vertexPositions, faces)\n",
    "\n",
    "\n",
    "def polydata_to_mm_mesh(src: pv.PolyData) -> pymm.Mesh:\n",
    "    \"\"\"Converts VTK PolyData to micro-mesher Mesh.\"\"\"\n",
    "\n",
    "    vertices = src.points\n",
    "    triangles = np.reshape(src.faces, (-1, 4))\n",
    "    assert (triangles[:, 0] == 3).all(), \"Expected tri-mesh.\"\n",
    "    # Remove vertex count, keep only indices.\n",
    "    triangles = triangles[:, 1:]\n",
    "\n",
    "    return create_mm_mesh(vertices, triangles)\n",
    "\n",
    "\n",
    "def warmup_data():\n",
    "    \"\"\"Small mesh used to warmup micromesher.\"\"\"\n",
    "\n",
    "    # 5 vertices (square with center), 4 triangles.\n",
    "    vertices = np.array([\n",
    "        [0, 0, 0],\n",
    "        [1, 0, 0],\n",
    "        [0, 1, 0],\n",
    "        [1, 1, 0],\n",
    "        [.5, .5, 0],\n",
    "    ], dtype=np.float32)\n",
    "\n",
    "    triangles = np.array([\n",
    "        [0, 1, 4],\n",
    "        [1, 3, 4],\n",
    "        [3, 2, 4],\n",
    "        [0, 2, 4],\n",
    "    ], dtype=np.float32)\n",
    "\n",
    "    return create_mm_mesh(vertices, triangles)"
   ]
  },
  {
   "cell_type": "markdown",
   "id": "c9fde623",
   "metadata": {},
   "source": [
    "Run mesh decimation."
   ]
  },
  {
   "cell_type": "code",
   "execution_count": 6,
   "id": "53b85f55",
   "metadata": {},
   "outputs": [
    {
     "name": "stdout",
     "output_type": "stream",
     "text": [
      "  Triangles: 4 -> 4\n",
      "Remeshing started 2203558 -> 110177 triangles max\n",
      "Remeshing in progress 2203558 -> 2049292 triangles - 7.3% (511.15 ms)\n",
      "Remeshing in progress 2203558 -> 1910136 triangles - 13.9% (613.36 ms)\n",
      "Remeshing in progress 2203558 -> 1777432 triangles - 20.2% (712.81 ms)\n",
      "Remeshing in progress 2203558 -> 1653954 triangles - 26.0% (809.26 ms)\n",
      "Remeshing in progress 2203558 -> 1541244 triangles - 31.3% (902.38 ms)\n",
      "Remeshing in progress 2203558 -> 1343276 triangles - 40.7% (1077.24 ms)\n",
      "Remeshing in progress 2203558 -> 1176214 triangles - 48.6% (1236.39 ms)\n",
      "Remeshing in progress 2203558 -> 1033648 triangles - 55.3% (1380.40 ms)\n",
      "Remeshing in progress 2203558 -> 909780 triangles - 61.2% (1508.84 ms)\n",
      "Remeshing in progress 2203558 -> 804540 triangles - 66.2% (1623.59 ms)\n",
      "Remeshing in progress 2203558 -> 682002 triangles - 72.0% (1775.56 ms)\n",
      "Remeshing in progress 2203558 -> 569878 triangles - 77.3% (1947.51 ms)\n",
      "Remeshing in progress 2203558 -> 463030 triangles - 82.3% (2161.41 ms)\n",
      "Remeshing in progress 2203558 -> 357096 triangles - 87.3% (2487.03 ms)\n",
      "Remeshing in progress 2203558 -> 250178 triangles - 92.4% (2675.50 ms)\n",
      "Remeshing in progress 2203558 -> 144472 triangles - 97.4% (3109.99 ms)\n",
      "  Triangles: 2203558 -> 104988\n"
     ]
    }
   ],
   "source": [
    "# Warmup.\n",
    "decimate(context, warmup_data(), 0.9)\n",
    "\n",
    "# GPU micromesh decimation.\n",
    "target_reduction = 0.95\n",
    "\n",
    "mm_mesh = polydata_to_mm_mesh(tri_mesh)\n",
    "start = time()\n",
    "decimated_mesh_gpu = decimate(context, mm_mesh, target_reduction=target_reduction)\n",
    "elapsed_gpu = time() - start\n",
    "\n",
    "start = time()\n",
    "decimated_mesh_cpu = tri_mesh.decimate_pro(target_reduction)\n",
    "elapsed_cpu = time() - start"
   ]
  },
  {
   "cell_type": "markdown",
   "id": "9d077bdd",
   "metadata": {},
   "source": [
    "Report performance and visualize resulting meshes."
   ]
  },
  {
   "cell_type": "code",
   "execution_count": 7,
   "id": "cbdb32df",
   "metadata": {},
   "outputs": [
    {
     "name": "stdout",
     "output_type": "stream",
     "text": [
      "| Device   |   Time (sec) |   In faces |   Out faces |\n",
      "|----------|--------------|------------|-------------|\n",
      "| GPU      |         4.33 |  2,203,558 |     104,988 |\n",
      "| CPU      |        11.25 |  2,203,558 |     110,176 |\n"
     ]
    }
   ],
   "source": [
    "from tabulate import tabulate\n",
    "\n",
    "headers = [\"Device\", \"Time (sec)\", \"In faces\", \"Out faces\"]\n",
    "data = [\n",
    "    [\"GPU\", elapsed_gpu, tri_mesh.n_cells, decimated_mesh_gpu.triangleVertices.shape[0]],\n",
    "    [\"CPU\", elapsed_cpu, tri_mesh.n_cells, decimated_mesh_cpu.n_cells],\n",
    "]\n",
    "\n",
    "print(tabulate(data, headers, tablefmt=\"github\", intfmt=\",\", floatfmt=\".2f\"))"
   ]
  },
  {
   "cell_type": "markdown",
   "id": "07b24047",
   "metadata": {},
   "source": [
    "Display nice side-by-side interactive plot to show the results of the decimation."
   ]
  },
  {
   "cell_type": "code",
   "execution_count": null,
   "id": "a212e9c2",
   "metadata": {},
   "outputs": [],
   "source": [
    "def plot_meshes(mesh_orig: pv.PolyData, mesh_gpu: pymm.Mesh, mesh_cpu: pv.PolyData):\n",
    "    \"\"\"Displays meshes.\"\"\"\n",
    "\n",
    "    plotter = pv.Plotter(shape=(1, 3))\n",
    "\n",
    "    plotter.subplot(0, 0)\n",
    "    plotter.add_mesh(mesh_orig, color=\"lightgrey\")\n",
    "    plotter.add_text(\"Mesh\", position=\"upper_left\")\n",
    "\n",
    "    plotter.subplot(0, 1)\n",
    "    plotter.add_mesh(mm_mesh_to_polydata(mesh_gpu), color=\"lightblue\")\n",
    "    plotter.add_text(\"GPU\", position=\"upper_left\")\n",
    "\n",
    "    plotter.subplot(0, 2)\n",
    "    plotter.add_mesh(mesh_cpu, color=\"lightgreen\")\n",
    "    plotter.add_text(\"CPU\", position=\"upper_left\")\n",
    "\n",
    "    plotter.show()\n",
    "\n",
    "plot_meshes(tri_mesh, decimated_mesh_gpu, decimated_mesh_cpu)"
   ]
  },
  {
   "cell_type": "code",
   "execution_count": 8,
   "id": "e51a6492",
   "metadata": {},
   "outputs": [
    {
     "name": "stderr",
     "output_type": "stream",
     "text": [
      "/usr/local/lib/python3.12/dist-packages/warp/codegen.py:2735: DeprecationWarning: ast.Str is deprecated and will be removed in Python 3.14; use ast.Constant instead\n",
      "  ast.Str: emit_String,  # Deprecated in 3.8; use Constant\n",
      "/usr/local/lib/python3.12/dist-packages/warp/codegen.py:2736: DeprecationWarning: ast.Num is deprecated and will be removed in Python 3.14; use ast.Constant instead\n",
      "  ast.Num: emit_Num,  # Deprecated in 3.8; use Constant\n",
      "/usr/local/lib/python3.12/dist-packages/warp/codegen.py:2737: DeprecationWarning: ast.NameConstant is deprecated and will be removed in Python 3.14; use ast.Constant instead\n",
      "  ast.NameConstant: emit_NameConstant,  # Deprecated in 3.8; use Constant\n",
      "/usr/local/lib/python3.12/dist-packages/warp/codegen.py:2754: DeprecationWarning: ast.Ellipsis is deprecated and will be removed in Python 3.14; use ast.Constant instead\n",
      "  ast.Ellipsis: emit_Ellipsis,\n"
     ]
    },
    {
     "name": "stdout",
     "output_type": "stream",
     "text": [
      "PolyData (0x7ffa191eac80)\n",
      "  N Cells:    104988\n",
      "  N Points:   52496\n",
      "  N Strips:   0\n",
      "  X Bounds:   -1.188e+00, 3.858e-05\n",
      "  Y Bounds:   -1.847e-01, 1.847e-01\n",
      "  Z Bounds:   4.994e-02, 3.034e-01\n",
      "  N Arrays:   0\n"
     ]
    }
   ],
   "source": [
    "from physicsnemo.sym.geometry.tessellation import Tessellation\n",
    "# vtp_mesh = pv.read(filename)\n",
    "# vtp_mesh = vtp_mesh.triangulate()\n",
    "# vtp_mesh.save(\"./assets/mesh.stl\")\n",
    "# g = Tessellation.from_stl(\"./assets/mesh.stl\")\n",
    "decimated_mesh_gpu_pd = mm_mesh_to_polydata(decimated_mesh_gpu)\n",
    "print(decimated_mesh_gpu_pd)\n",
    "decimated_mesh_gpu_pd.save(\"./assets/mesh.stl\")\n",
    "geometry = Tessellation.from_stl(\"./assets/mesh.stl\")"
   ]
  },
  {
   "cell_type": "code",
   "execution_count": 10,
   "id": "08c1d690",
   "metadata": {},
   "outputs": [
    {
     "name": "stdout",
     "output_type": "stream",
     "text": [
      "Warp 1.6.2 initialized:\n",
      "   CUDA Toolkit 12.8, Driver 12.2\n",
      "   Devices:\n",
      "     \"cpu\"      : \"x86_64\"\n",
      "     \"cuda:0\"   : \"NVIDIA GeForce RTX 3090\" (24 GiB, sm_86, mempool enabled)\n",
      "     \"cuda:1\"   : \"NVIDIA TITAN RTX\" (24 GiB, sm_75, mempool enabled)\n",
      "   CUDA peer access:\n",
      "     Not supported\n",
      "   Kernel cache:\n",
      "     /root/.cache/warp/1.6.2\n",
      "Module physicsnemo.utils.sdf 36297e8 load on device 'cuda:0' took 0.40 ms  (cached)\n",
      "PolyData (0x7ffa18961540)\n",
      "  N Cells:    100000\n",
      "  N Points:   100000\n",
      "  N Strips:   0\n",
      "  X Bounds:   -1.188e+00, 1.737e-05\n",
      "  Y Bounds:   -1.847e-01, 1.847e-01\n",
      "  Z Bounds:   4.996e-02, 3.034e-01\n",
      "  N Arrays:   0\n"
     ]
    }
   ],
   "source": [
    "samples = geometry.sample_boundary(100_000)\n",
    "tess_cpu = pv.PolyData(np.hstack((samples[\"x\"], samples[\"y\"], samples[\"z\"])))\n",
    "print(tess_cpu)"
   ]
  },
  {
   "cell_type": "code",
   "execution_count": null,
   "id": "53d93449",
   "metadata": {},
   "outputs": [],
   "source": [
    "# from utils import mesh\n",
    "# from pxr import Usd, UsdGeom\n",
    "\n",
    "# reefcrab_stage = Usd.Stage.Open('./assets/reefcrab/reefcrab.usd')\n",
    "\n",
    "# reefcrab_prim = reefcrab_stage.GetPrimAtPath('/World/High/Reefcrab')\n",
    "\n",
    "# reefcrab_mesh, reefcrab_mesh_xform = mesh.get_mesh(reefcrab_prim)\n",
    "# print(f'Triangles in low-resolution mesh: {reefcrab_mesh.triangleVertices.shape[0]}')"
   ]
  },
  {
   "cell_type": "code",
   "execution_count": null,
   "id": "ab7234e2",
   "metadata": {},
   "outputs": [],
   "source": [
    "# remesher_settings = pymm.RemesherSettings()\n",
    "# remesher_settings.decimationRatio=0.1\n",
    "# remesher_settings.errorThreshold=90\n",
    "# remesher_settings.maxSubdivLevel=4\n",
    "\n",
    "# reefcrab_mesh.vertexNormals = np.empty(0, dtype=np.float32)\n",
    "# remeshed_mesh = pymm.remesh(context, reefcrab_mesh, remesher_settings)\n",
    "\n",
    "# print(f'Triangles in remeshed mesh: {remeshed_mesh.triangleVertices.shape[0]}')\n",
    "# print(f'Actual decimation ratio: {remeshed_mesh.triangleVertices.shape[0] / reefcrab_mesh.triangleVertices.shape[0]:.2f}')"
   ]
  },
  {
   "cell_type": "code",
   "execution_count": null,
   "id": "a2d1e6bd",
   "metadata": {},
   "outputs": [],
   "source": [
    "from utils import mesh\n",
    "from pxr import Usd, UsdGeom\n",
    "\n",
    "stage = Usd.Stage.Open('./assets/simplewall/simplewall.usd')\n",
    "\n",
    "for prim in stage.Traverse():\n",
    "    if prim.IsA(UsdGeom.Mesh):\n",
    "        mesh_prim = UsdGeom.Mesh(prim)\n",
    "        print(f'{mesh_prim.GetPrim().GetPrimPath()}: vertices={len(mesh_prim.GetPointsAttr().Get())}, faces={int(len(mesh_prim.GetFaceVertexIndicesAttr().Get())/3)}')\n",
    "\n",
    "low_prim = stage.GetPrimAtPath('/World/Low/Simplewall')\n",
    "high_prim = stage.GetPrimAtPath('/World/High/Simplewall')\n",
    "\n",
    "# Get the low and high resolution primitives from the stage and convert to the necessary format:\n",
    "low_mesh, low_mesh_xform = mesh.get_mesh(low_prim)\n",
    "high_mesh, high_mesh_xform = mesh.get_mesh(high_prim)"
   ]
  },
  {
   "cell_type": "code",
   "execution_count": 11,
   "id": "df32b1bf",
   "metadata": {},
   "outputs": [
    {
     "name": "stdout",
     "output_type": "stream",
     "text": [
      "Generating mesh attributes TriangleSubdivLevels|TrianglePrimitiveFlags|VertexNormals|VertexDirections\n",
      "  Triangles: 1908212 -> 1908212\n",
      "Triangles in low-resolution mesh: 104988\n",
      "Triangles in remeshed mesh: 1908212\n"
     ]
    }
   ],
   "source": [
    "pretessellator_settings = pymm.PreTessellatorSettings()\n",
    "pretessellator_settings.maxSubdivLevel = 4\n",
    "pretessellator_settings.edgeLengthBased = True\n",
    "\n",
    "# low_mesh = decimated_mesh_gpu\n",
    "# pretessellated_mesh = pymm.preTessellate(context, low_mesh, pretessellator_settings)\n",
    "\n",
    "\n",
    "# pretessellator_settings = pymm.PreTessellatorSettings()\n",
    "# pretessellator_settings.maxSubdivLevel = 4\n",
    "# pretessellator_settings.edgeLengthBased = True\n",
    "\n",
    "# low_mesh = reefcrab_mesh\n",
    "\n",
    "low_mesh = pymm.Mesh()\n",
    "low_mesh.triangleVertices = decimated_mesh_gpu.triangleVertices\n",
    "low_mesh.vertexPositions = decimated_mesh_gpu.vertexPositions\n",
    "\n",
    "pretessellated_mesh = pymm.preTessellate(context, low_mesh, pretessellator_settings)\n",
    "print(f'Triangles in low-resolution mesh: {low_mesh.triangleVertices.shape[0]}')\n",
    "print(f'Triangles in remeshed mesh: {pretessellated_mesh.triangleVertices.shape[0]}')"
   ]
  },
  {
   "cell_type": "code",
   "execution_count": null,
   "id": "d17dbdd3",
   "metadata": {},
   "outputs": [],
   "source": [
    "plot_meshes(mm_mesh_to_polydata(decimated_mesh_gpu), pretessellated_mesh, tess_cpu)"
   ]
  }
 ],
 "metadata": {
  "kernelspec": {
   "display_name": "Python 3",
   "language": "python",
   "name": "python3"
  },
  "language_info": {
   "codemirror_mode": {
    "name": "ipython",
    "version": 3
   },
   "file_extension": ".py",
   "mimetype": "text/x-python",
   "name": "python",
   "nbconvert_exporter": "python",
   "pygments_lexer": "ipython3",
   "version": "3.12.3"
  }
 },
 "nbformat": 4,
 "nbformat_minor": 5
}
